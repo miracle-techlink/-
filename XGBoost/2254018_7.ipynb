{
 "cells": [
  {
   "cell_type": "markdown",
   "metadata": {},
   "source": [
    "根据电信客户信息（telco-churn.csv），建立一个模型，预测哪些客户会流失。\n",
    "该数据来自IBM，包含多个字段：费用、使用期限、流量信息以及一个表明客户是否会流失的变量（churn）等。\n",
    "\n",
    ">- (1) 读入数据，删去不必要的变量customerID\n",
    ">- (2) 将TotalCharges由字符串转换为数值。提示：\n",
    "data['TotalCharges'] = pd.to_numeric(data['TotalCharges'],errors='coerce’)\n",
    "说明：若errors设为“coerce”，无效的解析将设置为NaN。\n",
    ">- (3) 将所有分类变量转换为标签编码。\n",
    ">- (4) 随机打乱数据。拆分出X，y。8：2 划分数据集为训练集和测试集。\n",
    ">- (5）训练一个XGBoost模型，令其有1000棵树,学习率为0.01,max_depth=4，输出测试集的分类性能报告。保存模型为json文件。"
   ]
  },
  {
   "cell_type": "code",
   "execution_count": 20,
   "metadata": {},
   "outputs": [
    {
     "name": "stdout",
     "output_type": "stream",
     "text": [
      "   customerID  gender  SeniorCitizen Partner Dependents  tenure PhoneService  \\\n",
      "0  7590-VHVEG  Female              0     Yes         No       1           No   \n",
      "1  5575-GNVDE    Male              0      No         No      34          Yes   \n",
      "2  3668-QPYBK    Male              0      No         No       2          Yes   \n",
      "3  7795-CFOCW    Male              0      No         No      45           No   \n",
      "4  9237-HQITU  Female              0      No         No       2          Yes   \n",
      "\n",
      "      MultipleLines InternetService OnlineSecurity  ... DeviceProtection  \\\n",
      "0  No phone service             DSL             No  ...               No   \n",
      "1                No             DSL            Yes  ...              Yes   \n",
      "2                No             DSL            Yes  ...               No   \n",
      "3  No phone service             DSL            Yes  ...              Yes   \n",
      "4                No     Fiber optic             No  ...               No   \n",
      "\n",
      "  TechSupport StreamingTV StreamingMovies        Contract PaperlessBilling  \\\n",
      "0          No          No              No  Month-to-month              Yes   \n",
      "1          No          No              No        One year               No   \n",
      "2          No          No              No  Month-to-month              Yes   \n",
      "3         Yes          No              No        One year               No   \n",
      "4          No          No              No  Month-to-month              Yes   \n",
      "\n",
      "               PaymentMethod MonthlyCharges  TotalCharges Churn  \n",
      "0           Electronic check          29.85         29.85    No  \n",
      "1               Mailed check          56.95        1889.5    No  \n",
      "2               Mailed check          53.85        108.15   Yes  \n",
      "3  Bank transfer (automatic)          42.30       1840.75    No  \n",
      "4           Electronic check          70.70        151.65   Yes  \n",
      "\n",
      "[5 rows x 21 columns]\n",
      "<class 'pandas.core.frame.DataFrame'>\n",
      "RangeIndex: 7043 entries, 0 to 7042\n",
      "Data columns (total 21 columns):\n",
      " #   Column            Non-Null Count  Dtype  \n",
      "---  ------            --------------  -----  \n",
      " 0   customerID        7043 non-null   object \n",
      " 1   gender            7043 non-null   object \n",
      " 2   SeniorCitizen     7043 non-null   int64  \n",
      " 3   Partner           7043 non-null   object \n",
      " 4   Dependents        7043 non-null   object \n",
      " 5   tenure            7043 non-null   int64  \n",
      " 6   PhoneService      7043 non-null   object \n",
      " 7   MultipleLines     7043 non-null   object \n",
      " 8   InternetService   7043 non-null   object \n",
      " 9   OnlineSecurity    7043 non-null   object \n",
      " 10  OnlineBackup      7043 non-null   object \n",
      " 11  DeviceProtection  7043 non-null   object \n",
      " 12  TechSupport       7043 non-null   object \n",
      " 13  StreamingTV       7043 non-null   object \n",
      " 14  StreamingMovies   7043 non-null   object \n",
      " 15  Contract          7043 non-null   object \n",
      " 16  PaperlessBilling  7043 non-null   object \n",
      " 17  PaymentMethod     7043 non-null   object \n",
      " 18  MonthlyCharges    7043 non-null   float64\n",
      " 19  TotalCharges      7043 non-null   object \n",
      " 20  Churn             7043 non-null   object \n",
      "dtypes: float64(1), int64(2), object(18)\n",
      "memory usage: 1.1+ MB\n"
     ]
    }
   ],
   "source": [
    "import pandas as pd\n",
    "import numpy as np\n",
    "\n",
    "# 读取数据\n",
    "data = pd.read_csv(r'D:\\2024\\课内\\AI homework\\XGBoost\\telco-churn.csv')\n",
    "\n",
    "print(data.head())\n",
    "data.info()"
   ]
  },
  {
   "cell_type": "markdown",
   "metadata": {},
   "source": [
    ">- (4) 随机打乱数据。拆分出X，y。8：2 划分数据集为训练集和测试集。\n",
    ">- (5）训练一个XGBoost模型，令其有1000棵树,学习率为0.01,max_depth=4，输出测试集的分类性能报告。保存模型为json文件。"
   ]
  },
  {
   "cell_type": "code",
   "execution_count": 21,
   "metadata": {},
   "outputs": [
    {
     "name": "stderr",
     "output_type": "stream",
     "text": [
      "C:\\Users\\Administrator\\AppData\\Local\\Temp\\ipykernel_34088\\2307985332.py:12: FutureWarning: A value is trying to be set on a copy of a DataFrame or Series through chained assignment using an inplace method.\n",
      "The behavior will change in pandas 3.0. This inplace method will never work because the intermediate object on which we are setting values always behaves as a copy.\n",
      "\n",
      "For example, when doing 'df[col].method(value, inplace=True)', try using 'df.method({col: value}, inplace=True)' or df[col] = df[col].method(value) instead, to perform the operation inplace on the original object.\n",
      "\n",
      "\n",
      "  data['TotalCharges'].fillna(0, inplace=True)\n"
     ]
    },
    {
     "data": {
      "text/plain": [
       "((5634, 19), (1409, 19), (5634,), (1409,))"
      ]
     },
     "execution_count": 21,
     "metadata": {},
     "output_type": "execute_result"
    }
   ],
   "source": [
    "from sklearn.model_selection import train_test_split\n",
    "from sklearn.preprocessing import LabelEncoder\n",
    "import numpy as np\n",
    "\n",
    "# 步骤 1: 删除 'customerID' 列\n",
    "data = data.drop(columns=['customerID'])\n",
    "\n",
    "# 步骤 2: 将 'TotalCharges' 转换为数值，强制错误为 NaN\n",
    "data['TotalCharges'] = pd.to_numeric(data['TotalCharges'], errors='coerce')\n",
    "\n",
    "# 处理转换后 'TotalCharges' 中可能的缺失值\n",
    "data['TotalCharges'].fillna(0, inplace=True)\n",
    "\n",
    "# 步骤 3: 编码分类变量\n",
    "label_encoders = {}\n",
    "for column in data.select_dtypes(include=['object']).columns:\n",
    "    le = LabelEncoder()\n",
    "    data[column] = le.fit_transform(data[column])\n",
    "    label_encoders[column] = le\n",
    "\n",
    "# 步骤 4: 拆分特征 (X) 和目标 (y)\n",
    "X = data.drop(columns=['Churn'])\n",
    "y = data['Churn']\n",
    "\n",
    "# 随机打乱并拆分数据 (80% 训练集, 20% 测试集)\n",
    "X_train, X_test, y_train, y_test = train_test_split(X, y, test_size=0.2, random_state=42)\n",
    "\n",
    "# 验证拆分结果\n",
    "X_train.shape, X_test.shape, y_train.shape, y_test.shape\n"
   ]
  },
  {
   "cell_type": "code",
   "execution_count": 26,
   "metadata": {},
   "outputs": [
    {
     "name": "stderr",
     "output_type": "stream",
     "text": [
      "d:\\py\\Anaconda3\\envs\\mathmodeling\\Lib\\site-packages\\xgboost\\core.py:158: UserWarning: [16:15:37] WARNING: D:\\bld\\xgboost-split_1722454234704\\work\\src\\learner.cc:740: \n",
      "Parameters: { \"use_label_encoder\" } are not used.\n",
      "\n",
      "  warnings.warn(smsg, UserWarning)\n"
     ]
    },
    {
     "name": "stdout",
     "output_type": "stream",
     "text": [
      "{'0': {'precision': 0.8420107719928187, 'recall': 0.9054054054054054, 'f1-score': 0.8725581395348837, 'support': 1036.0}, '1': {'precision': 0.6677966101694915, 'recall': 0.5281501340482574, 'f1-score': 0.5898203592814372, 'support': 373.0}, 'accuracy': 0.8055358410220014, 'macro avg': {'precision': 0.7549036910811551, 'recall': 0.7167777697268314, 'f1-score': 0.7311892494081604, 'support': 1409.0}, 'weighted avg': {'precision': 0.7958916219856498, 'recall': 0.8055358410220014, 'f1-score': 0.7977098840100181, 'support': 1409.0}}\n"
     ]
    }
   ],
   "source": [
    "from xgboost import XGBClassifier\n",
    "from sklearn.metrics import classification_report\n",
    "import json\n",
    "\n",
    "# 调整模型参数以加快训练速度\n",
    "xgb_model = XGBClassifier(n_estimators=1000, learning_rate=0.01, max_depth=4, random_state=42, use_label_encoder=False)\n",
    "\n",
    "# 训练模型\n",
    "xgb_model.fit(X_train, y_train)\n",
    "\n",
    "# 在测试集上进行预测\n",
    "y_pred = xgb_model.predict(X_test)\n",
    "\n",
    "# 生成分类报告\n",
    "report = classification_report(y_test, y_pred, output_dict=True)\n",
    "\n",
    "# 将模型保存为 JSON 文件\n",
    "model_json = xgb_model.get_booster().save_config()\n",
    "with open('D:/2024/课内/AI homework/XGBoost/xgboost_model.json', 'w') as f:\n",
    "    json.dump(model_json, f)\n",
    "\n",
    "# 打印分类报告\n",
    "print(report)\n"
   ]
  }
 ],
 "metadata": {
  "kernelspec": {
   "display_name": "mathmodeling",
   "language": "python",
   "name": "python3"
  },
  "language_info": {
   "codemirror_mode": {
    "name": "ipython",
    "version": 3
   },
   "file_extension": ".py",
   "mimetype": "text/x-python",
   "name": "python",
   "nbconvert_exporter": "python",
   "pygments_lexer": "ipython3",
   "version": "3.11.9"
  }
 },
 "nbformat": 4,
 "nbformat_minor": 2
}
