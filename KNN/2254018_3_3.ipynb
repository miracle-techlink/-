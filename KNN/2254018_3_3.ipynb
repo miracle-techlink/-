{
 "cells": [
  {
   "cell_type": "code",
   "execution_count": 21,
   "metadata": {},
   "outputs": [],
   "source": [
    "import pandas as pd\n",
    "import numpy as np\n",
    "import seaborn as sns\n",
    "import matplotlib.pyplot as plt\n",
    "import os\n",
    "plt.rcParams['font.sans-serif'] = [u'simHei']  # 指定中文字体为黑体，防止乱码\n",
    "plt.rcParams['axes.unicode_minus'] = False     # 使用ASCII字符，保证显示正确"
   ]
  },
  {
   "cell_type": "code",
   "execution_count": 22,
   "metadata": {},
   "outputs": [
    {
     "data": {
      "text/html": [
       "<div>\n",
       "<style scoped>\n",
       "    .dataframe tbody tr th:only-of-type {\n",
       "        vertical-align: middle;\n",
       "    }\n",
       "\n",
       "    .dataframe tbody tr th {\n",
       "        vertical-align: top;\n",
       "    }\n",
       "\n",
       "    .dataframe thead th {\n",
       "        text-align: right;\n",
       "    }\n",
       "</style>\n",
       "<table border=\"1\" class=\"dataframe\">\n",
       "  <thead>\n",
       "    <tr style=\"text-align: right;\">\n",
       "      <th></th>\n",
       "      <th>质量等级</th>\n",
       "      <th>AQI指数</th>\n",
       "      <th>PM2.5</th>\n",
       "      <th>PM10</th>\n",
       "      <th>So2</th>\n",
       "      <th>No2</th>\n",
       "      <th>Co</th>\n",
       "      <th>O3</th>\n",
       "    </tr>\n",
       "  </thead>\n",
       "  <tbody>\n",
       "    <tr>\n",
       "      <th>0</th>\n",
       "      <td>轻度污染</td>\n",
       "      <td>111</td>\n",
       "      <td>83</td>\n",
       "      <td>93</td>\n",
       "      <td>9</td>\n",
       "      <td>87</td>\n",
       "      <td>1.03</td>\n",
       "      <td>23</td>\n",
       "    </tr>\n",
       "    <tr>\n",
       "      <th>1</th>\n",
       "      <td>良</td>\n",
       "      <td>81</td>\n",
       "      <td>60</td>\n",
       "      <td>63</td>\n",
       "      <td>7</td>\n",
       "      <td>41</td>\n",
       "      <td>0.84</td>\n",
       "      <td>58</td>\n",
       "    </tr>\n",
       "    <tr>\n",
       "      <th>2</th>\n",
       "      <td>优</td>\n",
       "      <td>27</td>\n",
       "      <td>14</td>\n",
       "      <td>27</td>\n",
       "      <td>7</td>\n",
       "      <td>33</td>\n",
       "      <td>0.59</td>\n",
       "      <td>53</td>\n",
       "    </tr>\n",
       "    <tr>\n",
       "      <th>3</th>\n",
       "      <td>优</td>\n",
       "      <td>50</td>\n",
       "      <td>34</td>\n",
       "      <td>46</td>\n",
       "      <td>8</td>\n",
       "      <td>53</td>\n",
       "      <td>0.71</td>\n",
       "      <td>46</td>\n",
       "    </tr>\n",
       "    <tr>\n",
       "      <th>4</th>\n",
       "      <td>良</td>\n",
       "      <td>55</td>\n",
       "      <td>36</td>\n",
       "      <td>47</td>\n",
       "      <td>7</td>\n",
       "      <td>62</td>\n",
       "      <td>0.68</td>\n",
       "      <td>31</td>\n",
       "    </tr>\n",
       "  </tbody>\n",
       "</table>\n",
       "</div>"
      ],
      "text/plain": [
       "   质量等级  AQI指数  PM2.5  PM10  So2  No2    Co  O3\n",
       "0  轻度污染    111     83    93    9   87  1.03  23\n",
       "1     良     81     60    63    7   41  0.84  58\n",
       "2     优     27     14    27    7   33  0.59  53\n",
       "3     优     50     34    46    8   53  0.71  46\n",
       "4     良     55     36    47    7   62  0.68  31"
      ]
     },
     "execution_count": 22,
     "metadata": {},
     "output_type": "execute_result"
    }
   ],
   "source": [
    "# 修正文件路径和编码的分开\n",
    "df = pd.read_csv(r'C:\\Users\\Administrator\\Desktop\\AI技术基础作业\\sh_air_quality_1.csv', encoding='gbk')\n",
    "df.head()  "
   ]
  },
  {
   "cell_type": "code",
   "execution_count": 23,
   "metadata": {},
   "outputs": [
    {
     "name": "stdout",
     "output_type": "stream",
     "text": [
      "<class 'pandas.core.frame.DataFrame'>\n",
      "RangeIndex: 353 entries, 0 to 352\n",
      "Data columns (total 8 columns):\n",
      " #   Column  Non-Null Count  Dtype  \n",
      "---  ------  --------------  -----  \n",
      " 0   质量等级    353 non-null    object \n",
      " 1   AQI指数   353 non-null    int64  \n",
      " 2   PM2.5   353 non-null    int64  \n",
      " 3   PM10    353 non-null    int64  \n",
      " 4   So2     353 non-null    int64  \n",
      " 5   No2     353 non-null    int64  \n",
      " 6   Co      353 non-null    float64\n",
      " 7   O3      353 non-null    int64  \n",
      "dtypes: float64(1), int64(6), object(1)\n",
      "memory usage: 22.2+ KB\n"
     ]
    }
   ],
   "source": [
    "df.info()"
   ]
  },
  {
   "cell_type": "code",
   "execution_count": 24,
   "metadata": {},
   "outputs": [
    {
     "data": {
      "text/plain": [
       "质量等级     0\n",
       "AQI指数    0\n",
       "PM2.5    0\n",
       "PM10     0\n",
       "So2      0\n",
       "No2      0\n",
       "Co       0\n",
       "O3       0\n",
       "dtype: int64"
      ]
     },
     "execution_count": 24,
     "metadata": {},
     "output_type": "execute_result"
    }
   ],
   "source": [
    "# 查看缺失值\n",
    "df.isnull().sum()"
   ]
  },
  {
   "cell_type": "code",
   "execution_count": 25,
   "metadata": {},
   "outputs": [],
   "source": [
    "from sklearn.model_selection import train_test_split, cross_val_score\n",
    "from sklearn.preprocessing import LabelEncoder\n",
    "from sklearn.neighbors import KNeighborsClassifier\n",
    "from sklearn.metrics import accuracy_score"
   ]
  },
  {
   "cell_type": "code",
   "execution_count": 26,
   "metadata": {},
   "outputs": [
    {
     "name": "stdout",
     "output_type": "stream",
     "text": [
      "最佳k值: 3\n",
      "测试集准确率: 0.90\n"
     ]
    }
   ],
   "source": [
    "# 将空气质量等级转换为数值\n",
    "label_encoder = LabelEncoder()\n",
    "df['质量等级'] = label_encoder.fit_transform(df['质量等级'])\n",
    "\n",
    "# 特征和标签\n",
    "X = df[['AQI指数', 'PM2.5', 'PM10', 'So2', 'No2', 'Co', 'O3']]\n",
    "y = df['质量等级']\n",
    "\n",
    "# 划分训练集和测试集\n",
    "X_train, X_test, y_train, y_test = train_test_split(X, y, test_size=0.2, random_state=42)\n",
    "\n",
    "# 选择最佳的k值\n",
    "k_values = range(1, 21)  # k值范围\n",
    "mean_accuracies = []\n",
    "\n",
    "for k in k_values:\n",
    "    knn = KNeighborsClassifier(n_neighbors=k)\n",
    "    scores = cross_val_score(knn, X_train, y_train, cv=5)  # 5折交叉验证\n",
    "    mean_accuracies.append(scores.mean())\n",
    "\n",
    "# 找到最佳k值\n",
    "best_k = k_values[np.argmax(mean_accuracies)]\n",
    "print(f'最佳k值: {best_k}')\n",
    "\n",
    "# 使用最佳k值训练kNN分类器\n",
    "knn_best = KNeighborsClassifier(n_neighbors=best_k)\n",
    "knn_best.fit(X_train, y_train)\n",
    "\n",
    "# 在测试集上测试分类器的准确率\n",
    "y_pred = knn_best.predict(X_test)\n",
    "accuracy = accuracy_score(y_test, y_pred)\n",
    "print(f'测试集准确率: {accuracy:.2f}')"
   ]
  },
  {
   "cell_type": "code",
   "execution_count": 28,
   "metadata": {},
   "outputs": [
    {
     "data": {
      "image/png": "[encoded data removed]",
      "text/plain": [
       "<Figure size 1000x600 with 1 Axes>"
      ]
     },
     "metadata": {},
     "output_type": "display_data"
    }
   ],
   "source": [
    "from sklearn.metrics import confusion_matrix\n",
    "\n",
    "# 计算混淆矩阵\n",
    "cm = confusion_matrix(y_test, y_pred)\n",
    "\n",
    "# 创建一个 DataFrame 用于可视化\n",
    "cm_df = pd.DataFrame(cm, index=label_encoder.classes_, columns=label_encoder.classes_)\n",
    "\n",
    "# 绘制热力图\n",
    "plt.figure(figsize=(10, 6))\n",
    "sns.heatmap(cm_df, annot=True, fmt='d', cmap='Blues', cbar=False)\n",
    "\n",
    "# 添加标题和标签\n",
    "plt.title('混淆矩阵')\n",
    "plt.xlabel('预测等级')\n",
    "plt.ylabel('实际等级')\n",
    "plt.xticks(rotation=45)  # 旋转x轴标签以便于阅读\n",
    "plt.yticks(rotation=0)    # 旋转y轴标签以便于阅读\n",
    "plt.tight_layout()  # 自动调整布局\n",
    "plt.show()"
   ]
  }
 ],
 "metadata": {
  "kernelspec": {
   "display_name": "Python 3",
   "language": "python",
   "name": "python3"
  },
  "language_info": {
   "codemirror_mode": {
    "name": "ipython",
    "version": 3
   },
   "file_extension": ".py",
   "mimetype": "text/x-python",
   "name": "python",
   "nbconvert_exporter": "python",
   "pygments_lexer": "ipython3",
   "version": "3.11.9"
  }
 },
 "nbformat": 4,
 "nbformat_minor": 2
}
