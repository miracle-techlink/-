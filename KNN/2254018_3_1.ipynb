{
 "cells": [
  {
   "cell_type": "code",
   "execution_count": 4,
   "metadata": {},
   "outputs": [],
   "source": [
    "# knn函数的修改\n",
    "def knn(X_train, y_train, X_test, k=1, p=2):\n",
    "    # 计算闵可夫斯基距离\n",
    "    distances = np.linalg.norm(X_train[:, np.newaxis] - X_test, ord=p, axis=2)\n",
    "    # 选择最近的k个邻居\n",
    "    nearest_indices = np.argsort(distances, axis=0)[:k]\n",
    "    # 进行投票\n",
    "    nearest_labels = y_train[nearest_indices].flatten()  # 确保是1D数组\n",
    "    return np.argmax(np.bincount(nearest_labels))"
   ]
  },
  {
   "cell_type": "code",
   "execution_count": 5,
   "metadata": {},
   "outputs": [
    {
     "name": "stdout",
     "output_type": "stream",
     "text": [
      "p=1, 准确率=1.00\n",
      "p=2, 准确率=1.00\n",
      "p=3, 准确率=1.00\n",
      "p=4, 准确率=1.00\n",
      "p=5, 准确率=1.00\n",
      "p=6, 准确率=1.00\n",
      "p=7, 准确率=1.00\n",
      "最佳p值: 1, 最佳准确率: 1.00\n",
      "使用最佳p值的最终准确率: 1.00\n"
     ]
    }
   ],
   "source": [
    "# 导入所需的库与数据集\n",
    "from sklearn.datasets import load_iris\n",
    "from sklearn.model_selection import train_test_split\n",
    "from sklearn.metrics import accuracy_score\n",
    "import numpy as np\n",
    "\n",
    "# 加载数据集\n",
    "iris = load_iris()\n",
    "X = iris.data\n",
    "y = iris.target\n",
    "\n",
    "# 划分训练集和测试集\n",
    "X_train, X_test, y_train, y_test = train_test_split(X, y, test_size=0.2, random_state=42)\n",
    "\n",
    "best_p = 1\n",
    "best_accuracy = 0\n",
    "\n",
    "# 比较不同p值的准确率\n",
    "for p in range(1, 8):\n",
    "    y_pred = [knn(X_train, y_train, x_test, k=1, p=p) for x_test in X_test]\n",
    "    accuracy = accuracy_score(y_test, y_pred)\n",
    "    print(f'p={p}, 准确率={accuracy:.2f}')\n",
    "    \n",
    "    if accuracy > best_accuracy:\n",
    "        best_accuracy = accuracy\n",
    "        best_p = p\n",
    "\n",
    "print(f'最佳p值: {best_p}, 最佳准确率: {best_accuracy:.2f}')\n",
    "\n",
    "# 使用最佳p值重新训练模型\n",
    "y_pred_best = [knn(X_train, y_train, x_test, k=1, p=best_p) for x_test in X_test]\n",
    "final_accuracy = accuracy_score(y_test, y_pred_best)\n",
    "print(f'使用最佳p值的最终准确率: {final_accuracy:.2f}')"
   ]
  }
 ],
 "metadata": {
  "kernelspec": {
   "display_name": "mathmodeling",
   "language": "python",
   "name": "python3"
  },
  "language_info": {
   "codemirror_mode": {
    "name": "ipython",
    "version": 3
   },
   "file_extension": ".py",
   "mimetype": "text/x-python",
   "name": "python",
   "nbconvert_exporter": "python",
   "pygments_lexer": "ipython3",
   "version": "3.11.9"
  }
 },
 "nbformat": 4,
 "nbformat_minor": 2
}
